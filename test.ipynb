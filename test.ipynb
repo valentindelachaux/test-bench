{
 "cells": [
  {
   "cell_type": "code",
   "execution_count": null,
   "metadata": {},
   "outputs": [],
   "source": [
    "import math\n",
    "import pandas as pd\n",
    "import numpy as np\n",
    "import norm as nm\n",
    "\n",
    "import matplotlib.pyplot as plt"
   ]
  },
  {
   "cell_type": "code",
   "execution_count": null,
   "metadata": {},
   "outputs": [],
   "source": [
    "G = 0.\n",
    "Gp = 0.\n",
    "T_amb = nm.to_K(15.)\n",
    "T_fluid_in = nm.to_K(40.)\n",
    "u = 0.\n",
    "\n",
    "A_G = 1.8\n",
    "m_dot = 0.034\n",
    "Cp = 4184.\n",
    "\n",
    "coeff = [0.35,10.,0.,0.,0.,0.,0.03,0.,0.]\n"
   ]
  },
  {
   "cell_type": "code",
   "execution_count": null,
   "metadata": {},
   "outputs": [],
   "source": [
    "T_f_out = nm.comp_point_norm(coeff,A_G,m_dot,Cp,G,Gp,T_fluid_in,T_amb,u)\n",
    "print(nm.to_C(T_f_out))\n",
    "print(nm.comp_power(m_dot,Cp,T_f_out,T_fluid_in))"
   ]
  },
  {
   "cell_type": "code",
   "execution_count": null,
   "metadata": {},
   "outputs": [],
   "source": [
    "print(nm.comp_power_coeff(coeff,A_G,T_f_out,G,Gp,T_fluid_in,T_amb,u))"
   ]
  },
  {
   "cell_type": "code",
   "execution_count": null,
   "metadata": {},
   "outputs": [],
   "source": [
    "list_a1 = np.linspace(5,40,20)\n",
    "y = []\n",
    "\n",
    "for i in range(len(list_a1)):\n",
    "    coeff[1] = list_a1[i]\n",
    "    y.append(nm.to_C(nm.comp_point_norm(coeff,A_G,m_dot,Cp,G,Gp,T_fluid_in,T_amb,u)))\n",
    "\n",
    "    \n",
    "list_a1 = np.array(list_a1)\n",
    "y = np.array(y)\n",
    "\n",
    "plt.plot(list_a1,y)\n",
    "plt.show()\n"
   ]
  },
  {
   "cell_type": "code",
   "execution_count": null,
   "metadata": {},
   "outputs": [],
   "source": [
    "T_fluid_in"
   ]
  }
 ],
 "metadata": {
  "kernelspec": {
   "display_name": "Python 3.10.5 ('model23')",
   "language": "python",
   "name": "python3"
  },
  "language_info": {
   "codemirror_mode": {
    "name": "ipython",
    "version": 3
   },
   "file_extension": ".py",
   "mimetype": "text/x-python",
   "name": "python",
   "nbconvert_exporter": "python",
   "pygments_lexer": "ipython3",
   "version": "3.10.5"
  },
  "orig_nbformat": 4,
  "vscode": {
   "interpreter": {
    "hash": "d629700add7d13df99efa7b6ee1fc1a3d9f6e4ac2336389d6054d4e516eee861"
   }
  }
 },
 "nbformat": 4,
 "nbformat_minor": 2
}
