{
 "cells": [
  {
   "cell_type": "code",
   "execution_count": null,
   "metadata": {},
   "outputs": [],
   "source": [
    "import functions as fun\n",
    "import datetime\n",
    "import plotly.express as px\n",
    "\n",
    "import norm as nm\n",
    "import pandas as pd\n",
    "import numpy as np\n",
    "\n",
    "import plotly.graph_objects as go\n",
    "from plotly.subplots import make_subplots\n",
    "\n",
    "import h5py\n",
    "import tables\n",
    "\n",
    "from openpyxl import Workbook\n",
    "from openpyxl.utils.dataframe import dataframe_to_rows\n",
    "\n",
    "from sklearn.linear_model import LinearRegression\n",
    "\n",
    "Cp = 4180\n",
    "\n",
    "import matplotlib.pyplot as plt\n",
    "\n",
    "import os"
   ]
  },
  {
   "cell_type": "code",
   "execution_count": null,
   "metadata": {},
   "outputs": [],
   "source": [
    "data = pd.read_excel(file_path)"
   ]
  },
  {
   "cell_type": "code",
   "execution_count": null,
   "metadata": {},
   "outputs": [],
   "source": [
    "df.to_csv('df.csv')"
   ]
  },
  {
   "cell_type": "code",
   "execution_count": null,
   "metadata": {},
   "outputs": [],
   "source": [
    "res = pd.DataFrame(data,columns=['Datetime','Flow rate','G','T_amb','u','T_fluid_in','T_fluid_out','T_fluid_out_VFD','Measured power','SK power','Error'])"
   ]
  },
  {
   "cell_type": "code",
   "execution_count": null,
   "metadata": {},
   "outputs": [],
   "source": [
    "# Create Excel\n",
    "\n",
    "# res étant un dataframe\n",
    "\n",
    "wb = Workbook()\n",
    "ws = wb.active # grab the active worksheet\n",
    "\n",
    "for r in dataframe_to_rows(res, index=True, header=True):\n",
    "    ws.append(r)\n",
    "   \n",
    "# Save the file\n",
    "wb.save(\"sample2.xlsx\")"
   ]
  },
  {
   "cell_type": "code",
   "execution_count": null,
   "metadata": {},
   "outputs": [],
   "source": [
    "# Create .csv\n",
    "\n",
    "res.to_csv('out.csv')"
   ]
  },
  {
   "cell_type": "code",
   "execution_count": null,
   "metadata": {},
   "outputs": [],
   "source": [
    "# Linear regression\n",
    "\n",
    "linear_regressor = LinearRegression()  # create object for the class\n",
    "linear_regressor.fit(np.array(df['T_fluid_out']), np.array(df['T_fluid_out_VFD']))  # perform linear regression\n",
    "Y_pred = linear_regressor.predict(X)  # make predictions"
   ]
  },
  {
   "cell_type": "code",
   "execution_count": null,
   "metadata": {},
   "outputs": [],
   "source": [
    "resp['QE'] = (resp['Measured power']-resp['SK power'])**2\n",
    "resp['QE'].mean()**(1/2)\n",
    "resp['Measured power'].mean()\n",
    "res = res.loc[res['Measured power']>100]\n",
    "couple = nm.find_SK(resp,nm.to_kg_per_s(resp['Flow rate'].mean()),2.08)\n",
    "plt.scatter(couple[0]['T_m - T_a'],couple[0]['Q_dot / A_G'])"
   ]
  }
 ],
 "metadata": {
  "kernelspec": {
   "display_name": "model23",
   "language": "python",
   "name": "python3"
  },
  "language_info": {
   "name": "python",
   "version": "3.10.5"
  },
  "orig_nbformat": 4,
  "vscode": {
   "interpreter": {
    "hash": "d629700add7d13df99efa7b6ee1fc1a3d9f6e4ac2336389d6054d4e516eee861"
   }
  }
 },
 "nbformat": 4,
 "nbformat_minor": 2
}
