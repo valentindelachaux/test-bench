{
 "cells": [
  {
   "cell_type": "code",
   "execution_count": null,
   "metadata": {},
   "outputs": [],
   "source": [
    "from sklearn.linear_model import LinearRegression"
   ]
  },
  {
   "cell_type": "code",
   "execution_count": null,
   "metadata": {},
   "outputs": [],
   "source": [
    "from openpyxl import Workbook\n",
    "from openpyxl.utils.dataframe import dataframe_to_rows"
   ]
  },
  {
   "cell_type": "code",
   "execution_count": null,
   "metadata": {},
   "outputs": [],
   "source": [
    "import functions as fun\n",
    "import datetime\n",
    "import plotly.express as px\n",
    "\n",
    "import norm as nm\n",
    "import pandas as pd\n",
    "import numpy as np\n",
    "\n",
    "import plotly.graph_objects as go\n",
    "from plotly.subplots import make_subplots\n",
    "\n",
    "import h5py\n",
    "import tables\n",
    "\n",
    "Cp = 4180\n",
    "\n",
    "import matplotlib.pyplot as plt\n",
    "\n",
    "import os"
   ]
  },
  {
   "cell_type": "code",
   "execution_count": null,
   "metadata": {},
   "outputs": [],
   "source": [
    "\n",
    "\n",
    "# Choix des listes\n",
    "\n",
    "dict_choice = {'Date / Time':1,\n",
    "                 'T out PVT1 [ °C]':1,\n",
    "                 'T bas ballon [ °C]':0,\n",
    "                 'T in PVT1 [ °C]':0,\n",
    "                 'T haut ballon [ °C]':0,\n",
    "                 'T out PVT2 [ °C]':1,\n",
    "                 'T in PVT2 [ °C]':0,\n",
    "                 'T in PVT2 [ °C]':0,\n",
    "                 'T out PVT3 [ °C]':0,\n",
    "                 'T in PVT3 [ °C]':0,\n",
    "                 'T out PVT4 [ °C]':0,\n",
    "                 'T in PVT4 [ °C]':0,\n",
    "                 'T out PVT5 [ °C]':0,\n",
    "                 'T in PVT5 [ °C]':0,\n",
    "                 'Irradiation solaire [ W/m²]':0,\n",
    "                 'T out PVT6 [ °C]':0,\n",
    "                 'T in PVT6 [ °C]':0,\n",
    "                 'T extérieure [ °C]':0,\n",
    "                 'T out PVT7 [ °C]':0,\n",
    "                 'T in PVT7 [ °C]':0,\n",
    "                 'T out PVT8 [ °C]':0,\n",
    "                 'T in PVT8 [ °C]':0,\n",
    "                 'T out PVT9 [ °C]':0,\n",
    "                 'T in PVT9 [ °C]':0,\n",
    "                 'T out PVT10 [ °C]':0,\n",
    "                 'T in PVT10 [ °C]':0,\n",
    "                 'Pression entrée PVT [ bar]':0,\n",
    "                 'Pression sortie PVT [ bar]':0,\n",
    "                 'T entrée PVT RPS [ °C]':0,\n",
    "                 'T sortie PVT RPS [ °C]':0,\n",
    "                 'T sortie PVT VFD [ °C]':0,\n",
    "                 'Débit VFD [ l/h]':0,'débit IMP [ l/h]':0,\n",
    "                 'Relais 1 [ %]':0,\n",
    "                 'Signal PWM [ %]':0,\n",
    "                 'Vitesse du vent [ m/s]':0}\n",
    "\n",
    "# Charge et preproc le fichier\n",
    "\n",
    "file_name = \"S425-2ab.csv\"\n",
    "df = fun.pre_proc(file_name)\n",
    "\n",
    "df = fun.clean_date_time(df,'Date / Time')\n",
    "df = fun.drop(df)\n",
    "\n",
    "dict_rename = {'Date / Time':'Datetime', 'T out PVT1 [ °C]':'T_out_PVT1', 'T bas ballon [ °C]':'T_tank_bottom', 'T in PVT1 [ °C]':'T_in_PVT1', 'T haut ballon [ °C]':'T_tank_top', 'T out PVT2 [ °C]':'T_out_PVT2', 'T in PVT2 [ °C]':'T_in_PVT2', 'T out PVT3 [ °C]':'T_out_PVT3', 'T in PVT3 [ °C]':'T_in_PVT3', 'T out PVT4 [ °C]':'T_out_PVT4', 'T in PVT4 [ °C]':'T_in_PVT4', 'T out PVT5 [ °C]':'T_out_PVT5', 'T in PVT5 [ °C]':'T_in_PVT5', 'Irradiation solaire [ W/m²]':'G', 'T out PVT6 [ °C]':'T_out_PVT6', 'T in PVT6 [ °C]':'T_in_PVT6', 'T extérieure [ °C]':'T_amb', 'T out PVT7 [ °C]':'T_out_PVT7', 'T in PVT7 [ °C]':'T_in_PVT7', 'T out PVT8 [ °C]':'T_out_PVT8', 'T in PVT8 [ °C]':'T_in_PVT8', 'T out PVT9 [ °C]':'T_out_PVT9', 'T in PVT9 [ °C]':'T_in_PVT9', 'T out PVT10 [ °C]':'T_out_PVT10', 'T in PVT10 [ °C]':'T_in_PVT10', 'Pression entrée PVT [ bar]':'P_in', 'Pression sortie PVT [ bar]':'P_out', 'T entrée PVT RPS [ °C]':'T_fluid_in', 'T sortie PVT RPS [ °C]':'T_fluid_out', 'T sortie PVT VFD [ °C]':'T_fluid_out_VFD', 'Débit VFD [ l/h]':'Flow_rate', 'débit IMP [ l/h]':'Flow_rate_IMP', 'Relais 1 [ %]':'Relais_1', 'Signal PWM [ %]':'PWM_signal', 'Vitesse du vent [ m/s]':'u'}\n",
    "order = ['Datetime','G','T_amb','u','Flow_rate','Flow_rate_IMP','T_fluid_in','T_fluid_out','T_fluid_out_VFD','T_tank_bottom','T_tank_top','P_in','P_out','Relais_1','PWM_signal']\n",
    "dict_unit = {'Datetime':'datetime', 'T_out_PVT1':'°C', 'T_tank_bottom':'°C', 'T_in_PVT1':'°C', 'T_tank_top':'°C', 'T_out_PVT2':'°C', 'T_in_PVT2':'°C', 'T_out_PVT3':'°C', 'T_in_PVT3':'°C', 'T_out_PVT4':'°C', 'T_in_PVT4':'°C', 'T_out_PVT5':'°C', 'T_in_PVT5':'°C', 'G':'W/m2', 'T_out_PVT6':'°C', 'T_in_PVT6':'°C', 'T_amb':'°C', 'T_out_PVT7':'°C', 'T_in_PVT7':'°C', 'T_out_PVT8':'°C', 'T_in_PVT8':'°C', 'T_out_PVT9':'°C', 'T_in_PVT9':'°C', 'T_out_PVT10':'°C', 'T_in_PVT10':'°C', 'P_in':'bar', 'P_out':'bar', 'T_fluid_in':'°C', 'T_fluid_out':'°C', 'T_fluid_out_VFD':'°C', 'Flow_rate':'L/h', 'Flow_rate_IMP':'L/h', 'Relais_1':'%', 'PWM_signal':'%', 'u':'m/s'}\n",
    "\n",
    "# dict_corr.keys()\n",
    "\n",
    "df = fun.rename_and_sort(df,dict_rename,order)"
   ]
  },
  {
   "cell_type": "code",
   "execution_count": null,
   "metadata": {},
   "outputs": [],
   "source": [
    "path = os.getcwd()\n",
    "name = 'bonjour'\n",
    "fichier = path+name\n",
    "\n",
    "file_path = r\"C:\\Users\\valen\\Dropbox (DualSun)\\PC\\Documents\\PVT-PAC\\vbusnet-1674040305-semicolon-crlf.xlsx\""
   ]
  },
  {
   "cell_type": "code",
   "execution_count": null,
   "metadata": {},
   "outputs": [],
   "source": [
    "file_path"
   ]
  },
  {
   "cell_type": "code",
   "execution_count": null,
   "metadata": {},
   "outputs": [],
   "source": [
    "data = pd.read_excel(file_path)"
   ]
  },
  {
   "cell_type": "code",
   "execution_count": null,
   "metadata": {},
   "outputs": [],
   "source": [
    "data"
   ]
  },
  {
   "cell_type": "code",
   "execution_count": null,
   "metadata": {},
   "outputs": [],
   "source": [
    "data.loc[0][0]"
   ]
  },
  {
   "cell_type": "code",
   "execution_count": null,
   "metadata": {},
   "outputs": [],
   "source": [
    "dict = {}\n",
    "\n",
    "for i in range(len(data.loc[0])):\n",
    "    dict[data.loc[0][i]] = data.loc[1][i]"
   ]
  },
  {
   "cell_type": "code",
   "execution_count": null,
   "metadata": {},
   "outputs": [],
   "source": [
    "dict_rename = dict"
   ]
  },
  {
   "cell_type": "code",
   "execution_count": null,
   "metadata": {},
   "outputs": [],
   "source": [
    "dict"
   ]
  },
  {
   "cell_type": "code",
   "execution_count": null,
   "metadata": {},
   "outputs": [],
   "source": [
    "df = df.loc[df['Datetime']>=datetime.datetime(2022, 11, 24, 20, 00, 00)]"
   ]
  },
  {
   "cell_type": "code",
   "execution_count": null,
   "metadata": {},
   "outputs": [],
   "source": [
    "df = df.loc[df['Flow_rate']>70]"
   ]
  },
  {
   "cell_type": "code",
   "execution_count": null,
   "metadata": {},
   "outputs": [],
   "source": [
    "df = df.loc[df['G']>600]"
   ]
  },
  {
   "cell_type": "code",
   "execution_count": null,
   "metadata": {},
   "outputs": [],
   "source": [
    "df"
   ]
  },
  {
   "cell_type": "code",
   "execution_count": null,
   "metadata": {},
   "outputs": [],
   "source": [
    "Tt = pd.DataFrame()\n",
    "Tt[\"T_m\"] = (df[\"T_fluid_in\"]+df[\"T_fluid_out\"])/2\n",
    "Tt[\"T_m -T_a\"] = Tt[\"T_m\"] - df[\"T_amb\"]\n",
    "Tt[\"T_m_VFD\"] = (df[\"T_fluid_in\"]+df[\"T_fluid_out_VFD\"])/2\n",
    "Tt[\"T_m_VFD -T_a\"] = Tt[\"T_m_VFD\"] - df[\"T_amb\"]"
   ]
  },
  {
   "cell_type": "code",
   "execution_count": null,
   "metadata": {},
   "outputs": [],
   "source": [
    "Tt"
   ]
  },
  {
   "cell_type": "code",
   "execution_count": null,
   "metadata": {},
   "outputs": [],
   "source": [
    "df_a = fun.select(df,datetime.datetime(2022, 11, 24, 15, 50, 00),datetime.datetime(2022, 11, 24, 17, 10, 00))"
   ]
  },
  {
   "cell_type": "code",
   "execution_count": null,
   "metadata": {},
   "outputs": [],
   "source": [
    "df"
   ]
  },
  {
   "cell_type": "code",
   "execution_count": null,
   "metadata": {},
   "outputs": [],
   "source": [
    "df.to_csv('df.csv')"
   ]
  },
  {
   "cell_type": "code",
   "execution_count": null,
   "metadata": {},
   "outputs": [],
   "source": [
    "df[\"DT_fluid_out\"] = abs(df[\"T_fluid_out_VFD\"] - df[\"T_fluid_out\"])"
   ]
  },
  {
   "cell_type": "code",
   "execution_count": null,
   "metadata": {},
   "outputs": [],
   "source": [
    "l = np.linspace(0.,2.5,26)"
   ]
  },
  {
   "cell_type": "code",
   "execution_count": null,
   "metadata": {},
   "outputs": [],
   "source": [
    "l"
   ]
  },
  {
   "cell_type": "code",
   "execution_count": null,
   "metadata": {},
   "outputs": [],
   "source": [
    "hist1 = df['DT_fluid_out'].value_counts(bins=l)"
   ]
  },
  {
   "cell_type": "code",
   "execution_count": null,
   "metadata": {},
   "outputs": [],
   "source": [
    "dfbis = df.loc[df[\"DT_fluid_out\"]>0.5]"
   ]
  },
  {
   "cell_type": "code",
   "execution_count": null,
   "metadata": {},
   "outputs": [],
   "source": [
    "dfbis = dfbis.loc[dfbis[\"DT_fluid_out\"]<0.6]"
   ]
  },
  {
   "cell_type": "code",
   "execution_count": null,
   "metadata": {},
   "outputs": [],
   "source": [
    "hist1"
   ]
  },
  {
   "cell_type": "code",
   "execution_count": null,
   "metadata": {},
   "outputs": [],
   "source": [
    "df.plot.hist(column = \"DT_fluid_out\",bins=l)"
   ]
  },
  {
   "cell_type": "code",
   "execution_count": null,
   "metadata": {},
   "outputs": [],
   "source": [
    "plt.hist(np.array(df['DT_fluid_out']), bins = l, rwidth = 0.5, density =False)\n",
    "plt.xlabel('| T_fluid_out - T_fluid_out_VFD |')\n",
    "plt.show()"
   ]
  },
  {
   "cell_type": "code",
   "execution_count": null,
   "metadata": {},
   "outputs": [],
   "source": [
    "df[\"DT_fluid_out\"]"
   ]
  },
  {
   "cell_type": "code",
   "execution_count": null,
   "metadata": {},
   "outputs": [],
   "source": [
    "df[\"DT_fluid_out\"].mean()"
   ]
  },
  {
   "cell_type": "code",
   "execution_count": null,
   "metadata": {},
   "outputs": [],
   "source": [
    "df[\"DT_fluid_out\"].std()"
   ]
  },
  {
   "cell_type": "code",
   "execution_count": null,
   "metadata": {},
   "outputs": [],
   "source": [
    "df[\"DT_fluid_out\"].min()"
   ]
  },
  {
   "cell_type": "code",
   "execution_count": null,
   "metadata": {},
   "outputs": [],
   "source": [
    "df[\"DT_fluid_out\"].max()"
   ]
  },
  {
   "cell_type": "code",
   "execution_count": null,
   "metadata": {},
   "outputs": [],
   "source": [
    "df[\"DT_fluid_out\"].idxmax()"
   ]
  },
  {
   "cell_type": "code",
   "execution_count": null,
   "metadata": {},
   "outputs": [],
   "source": [
    "X = np.array([df['T_amb'],df['T_fluid_out']])"
   ]
  },
  {
   "cell_type": "code",
   "execution_count": null,
   "metadata": {},
   "outputs": [],
   "source": [
    "X"
   ]
  },
  {
   "cell_type": "code",
   "execution_count": null,
   "metadata": {},
   "outputs": [],
   "source": [
    "linear_regressor = LinearRegression()  # create object for the class\n",
    "linear_regressor.fit(np.array(df['T_fluid_out']), np.array(df['T_fluid_out_VFD']))  # perform linear regression\n",
    "Y_pred = linear_regressor.predict(X)  # make predictions"
   ]
  },
  {
   "cell_type": "code",
   "execution_count": null,
   "metadata": {},
   "outputs": [],
   "source": [
    "df[2240-1179:2270-1179]"
   ]
  },
  {
   "cell_type": "code",
   "execution_count": null,
   "metadata": {},
   "outputs": [],
   "source": [
    "plt.scatter(Tt[\"T_m -T_a\"],df[\"G\"],s=1.)\n",
    "plt.xlim(-5,15)\n",
    "plt.show()"
   ]
  },
  {
   "cell_type": "code",
   "execution_count": null,
   "metadata": {},
   "outputs": [],
   "source": [
    "plt.scatter(Tt[\"T_m -T_a\"],df[\"u\"],s=1.)\n",
    "plt.xlim(-5,15)\n",
    "plt.show()"
   ]
  },
  {
   "cell_type": "code",
   "execution_count": null,
   "metadata": {},
   "outputs": [],
   "source": [
    "dfG = df.loc[df['G']>800]"
   ]
  },
  {
   "cell_type": "code",
   "execution_count": null,
   "metadata": {},
   "outputs": [],
   "source": [
    "len(dfG)"
   ]
  },
  {
   "cell_type": "code",
   "execution_count": null,
   "metadata": {},
   "outputs": [],
   "source": [
    "df_a"
   ]
  },
  {
   "cell_type": "code",
   "execution_count": null,
   "metadata": {},
   "outputs": [],
   "source": [
    "df_b = fun.select(df,datetime.datetime(2022, 11, 24, 17, 55, 00),datetime.datetime(2022, 11, 24, 20, 00, 00))"
   ]
  },
  {
   "cell_type": "code",
   "execution_count": null,
   "metadata": {},
   "outputs": [],
   "source": [
    "# Plot\n",
    "\n",
    "fig1 = fun.plot_system(df_b,tank=False)\n",
    "fig2 = fun.plot_meteo(df_b)\n",
    "fig1.show()\n",
    "fig2.show()"
   ]
  },
  {
   "cell_type": "code",
   "execution_count": null,
   "metadata": {},
   "outputs": [],
   "source": [
    "# Save HDF5\n",
    "\n",
    "address = \"S425-2b.h5\"\n",
    "fun.save_h5(address,df_b,dict_unit)"
   ]
  },
  {
   "cell_type": "code",
   "execution_count": null,
   "metadata": {},
   "outputs": [],
   "source": [
    "plt.plot(df['T-m'])"
   ]
  },
  {
   "cell_type": "code",
   "execution_count": null,
   "metadata": {},
   "outputs": [],
   "source": [
    "# coeff_S375SB = [0.4419,19.65,0.,1.85,0.,20.8,0.0180,0.]\n",
    "coeff_S425 = [0.382,16.64,0.,0.838,0.,0.,0.0129,0.]\n",
    "\n",
    "df_t = df\n",
    "\n",
    "nb_dots = 15\n",
    "\n",
    "dev_G = 50\n",
    "dev_T_amb = 0.5\n",
    "dev_u = 0.3\n",
    "dev_T_fluid_in = 0.05\n",
    "dev_T_fluid_out = 0.05\n",
    "tol_T_fluid_in = 2/100\n",
    "tol_T_fluid_out = 2/100\n",
    "\n",
    "quasi_list = []\n",
    "time_list = []\n",
    "flag = 0\n",
    "\n",
    "data = []\n",
    "\n",
    "VFD = 0\n",
    "\n",
    "test_VFD = True\n",
    "\n",
    "\n",
    "for i in range(len(df_t)):\n",
    "    flag = 0\n",
    "    \n",
    "    cop = df_t.iloc[i:i+nb_dots,:]\n",
    "    fr_mn = cop['Flow_rate'].mean()\n",
    "    G_mn = cop['G'].mean()\n",
    "    T_amb_mn = cop['T_amb'].mean()\n",
    "    u_mn = cop['u'].mean()\n",
    "    T_fin_mn = cop['T_fluid_in'].mean()\n",
    "\n",
    "    if test_VFD == True:\n",
    "        T_fout_mn = cop['T_fluid_out_VFD'].mean()\n",
    "        T_fout_mn_nVFD = cop['T_fluid_out'].mean()\n",
    "        T_fout_mn_VFD = T_fout_mn\n",
    "    else:\n",
    "        T_fout_mn = cop['T_fluid_out'].mean()\n",
    "        T_fout_mn_VFD = cop['T_fluid_out_VFD'].mean()\n",
    "        T_fout_mn_nVFD = T_fout_mn\n",
    "\n",
    "    ind = cop.index\n",
    "\n",
    "    for j in range(len(cop)):\n",
    "        jp = ind[j]\n",
    "        dif_G = abs(cop.loc[jp,'G'] - G_mn)\n",
    "        dif_T_amb = abs(cop.loc[jp,'T_amb'] - T_amb_mn)\n",
    "        dif_u = abs(cop.loc[jp,'u'] - u_mn)\n",
    "        dif_T_fin = abs(cop.loc[jp,'T_fluid_in'] - T_fin_mn)\n",
    "        if test_VFD == True:\n",
    "            dif_T_fout = abs(cop.loc[jp,'T_fluid_out_VFD'] - T_fout_mn)\n",
    "        else:    \n",
    "            dif_T_fout = abs(cop.loc[jp,'T_fluid_out'] - T_fout_mn)\n",
    "        \n",
    "    \n",
    "        # if dif_G<=dev_G and dif_T_amb<=dev_T_amb and dif_u <= dev_u and dif_T_fin <= tol_T_fluid_in*T_fin_mn and dif_T_fout <= tol_T_fluid_out*T_fout_mn:\n",
    "        if dif_G<=dev_G and dif_T_amb<=dev_T_amb and dif_u <= dev_u and dif_T_fin <= dev_T_fluid_in and dif_T_fout <= dev_T_fluid_out :\n",
    "            # if  dif_T_fout_VFD <= dev_T_fluid_out:\n",
    "            #     flag+=1\n",
    "            # else:\n",
    "            #     VFD+=1\n",
    "            #     break\n",
    "            flag+=1\n",
    "    \n",
    "    if flag==nb_dots:\n",
    "        print(\"steady\")\n",
    "        quasi_list.append(ind)\n",
    "        time_list.append(cop['Datetime'])\n",
    "        pow_meas = nm.comp_power(nm.to_kg_per_s(fr_mn),Cp,T_fout_mn,T_fin_mn)\n",
    "        pow_sk = nm.comp_power_coeff(coeff_S425,2.08,T_fout_mn,G_mn,0.,T_fin_mn,T_amb_mn,u_mn)\n",
    "        err = (pow_meas-pow_sk)/pow_sk\n",
    "\n",
    "        data.append([df_t.loc[df_t.index[i],'Datetime'],fr_mn,G_mn,T_amb_mn,u_mn,T_fin_mn,T_fout_mn_nVFD,T_fout_mn_VFD,pow_meas,pow_sk,err])\n",
    "    else:\n",
    "        pass"
   ]
  },
  {
   "cell_type": "code",
   "execution_count": null,
   "metadata": {},
   "outputs": [],
   "source": [
    "df"
   ]
  },
  {
   "cell_type": "code",
   "execution_count": null,
   "metadata": {},
   "outputs": [],
   "source": [
    "VFD"
   ]
  },
  {
   "cell_type": "code",
   "execution_count": null,
   "metadata": {},
   "outputs": [],
   "source": [
    "len(quasi_list)"
   ]
  },
  {
   "cell_type": "code",
   "execution_count": null,
   "metadata": {},
   "outputs": [],
   "source": [
    "res = pd.DataFrame(data,columns=['Datetime','Flow rate','G','T_amb','u','T_fluid_in','T_fluid_out','T_fluid_out_VFD','Measured power','SK power','Error'])"
   ]
  },
  {
   "cell_type": "code",
   "execution_count": null,
   "metadata": {},
   "outputs": [],
   "source": [
    "res"
   ]
  },
  {
   "cell_type": "code",
   "execution_count": null,
   "metadata": {},
   "outputs": [],
   "source": [
    "# Create Excel\n",
    "\n",
    "wb = Workbook()\n",
    "ws = wb.active # grab the active worksheet\n",
    "\n",
    "for r in dataframe_to_rows(res, index=True, header=True):\n",
    "    ws.append(r)\n",
    "   \n",
    "# Save the file\n",
    "wb.save(\"sample2.xlsx\")"
   ]
  },
  {
   "cell_type": "code",
   "execution_count": null,
   "metadata": {},
   "outputs": [],
   "source": [
    "res.to_csv('out.csv')"
   ]
  },
  {
   "cell_type": "code",
   "execution_count": null,
   "metadata": {},
   "outputs": [],
   "source": [
    "resp = res.loc[res['Flow rate']>110]"
   ]
  },
  {
   "cell_type": "code",
   "execution_count": null,
   "metadata": {},
   "outputs": [],
   "source": [
    "resp = resp.loc[resp['G']>100]"
   ]
  },
  {
   "cell_type": "code",
   "execution_count": null,
   "metadata": {},
   "outputs": [],
   "source": [
    "resp"
   ]
  },
  {
   "cell_type": "code",
   "execution_count": null,
   "metadata": {},
   "outputs": [],
   "source": [
    "resp = resp.loc[resp['Measured power']>200]"
   ]
  },
  {
   "cell_type": "code",
   "execution_count": null,
   "metadata": {},
   "outputs": [],
   "source": [
    "respp = resp.loc[abs(res['Error'])<1]"
   ]
  },
  {
   "cell_type": "code",
   "execution_count": null,
   "metadata": {},
   "outputs": [],
   "source": [
    "resp"
   ]
  },
  {
   "cell_type": "code",
   "execution_count": null,
   "metadata": {},
   "outputs": [],
   "source": [
    "resp['QE'] = (resp['Measured power']-resp['SK power'])**2"
   ]
  },
  {
   "cell_type": "code",
   "execution_count": null,
   "metadata": {},
   "outputs": [],
   "source": [
    "resp['QE'].mean()**(1/2)"
   ]
  },
  {
   "cell_type": "code",
   "execution_count": null,
   "metadata": {},
   "outputs": [],
   "source": [
    "resp['Measured power'].mean()"
   ]
  },
  {
   "cell_type": "code",
   "execution_count": null,
   "metadata": {},
   "outputs": [],
   "source": [
    "res = res.loc[res['Measured power']>100]"
   ]
  },
  {
   "cell_type": "code",
   "execution_count": null,
   "metadata": {},
   "outputs": [],
   "source": [
    "couple = nm.find_SK(resp,nm.to_kg_per_s(resp['Flow rate'].mean()),2.08)"
   ]
  },
  {
   "cell_type": "code",
   "execution_count": null,
   "metadata": {},
   "outputs": [],
   "source": [
    "couple[0]"
   ]
  },
  {
   "cell_type": "code",
   "execution_count": null,
   "metadata": {},
   "outputs": [],
   "source": [
    "plt.scatter(couple[0]['T_m - T_a'],couple[0]['Q_dot / A_G'])"
   ]
  },
  {
   "cell_type": "code",
   "execution_count": null,
   "metadata": {},
   "outputs": [],
   "source": [
    "couple[1]"
   ]
  },
  {
   "cell_type": "code",
   "execution_count": null,
   "metadata": {},
   "outputs": [],
   "source": [
    "-17*950+2680*6"
   ]
  },
  {
   "cell_type": "code",
   "execution_count": null,
   "metadata": {},
   "outputs": [],
   "source": [
    "\n",
    "import norm as nm"
   ]
  },
  {
   "cell_type": "code",
   "execution_count": null,
   "metadata": {},
   "outputs": [],
   "source": [
    "%reload_ext autoreload"
   ]
  },
  {
   "cell_type": "code",
   "execution_count": null,
   "metadata": {},
   "outputs": [],
   "source": [
    "import norm as nm"
   ]
  },
  {
   "cell_type": "code",
   "execution_count": null,
   "metadata": {},
   "outputs": [],
   "source": [
    "print(X)"
   ]
  },
  {
   "cell_type": "code",
   "execution_count": null,
   "metadata": {},
   "outputs": [],
   "source": [
    "print(quasi_list)"
   ]
  },
  {
   "cell_type": "code",
   "execution_count": null,
   "metadata": {},
   "outputs": [],
   "source": [
    "print(time_list)"
   ]
  },
  {
   "cell_type": "code",
   "execution_count": null,
   "metadata": {},
   "outputs": [],
   "source": [
    "st = df.iloc[0:5,:]"
   ]
  },
  {
   "cell_type": "code",
   "execution_count": null,
   "metadata": {},
   "outputs": [],
   "source": [
    "st['T_amb'].mean()"
   ]
  },
  {
   "cell_type": "code",
   "execution_count": null,
   "metadata": {},
   "outputs": [],
   "source": [
    "st"
   ]
  },
  {
   "cell_type": "code",
   "execution_count": null,
   "metadata": {},
   "outputs": [],
   "source": [
    "for i in range(len(st.index)):\n",
    "    print(st.index[i])"
   ]
  },
  {
   "cell_type": "code",
   "execution_count": null,
   "metadata": {},
   "outputs": [],
   "source": [
    "float(st.iloc[[0]]['T_amb'])"
   ]
  },
  {
   "cell_type": "code",
   "execution_count": null,
   "metadata": {},
   "outputs": [],
   "source": [
    "st.loc[2318,'T_amb']"
   ]
  },
  {
   "cell_type": "code",
   "execution_count": null,
   "metadata": {},
   "outputs": [],
   "source": [
    "st['T out PVT1 [ °C]']"
   ]
  }
 ],
 "metadata": {
  "kernelspec": {
   "display_name": "Python 3.10.5 ('model23')",
   "language": "python",
   "name": "python3"
  },
  "language_info": {
   "codemirror_mode": {
    "name": "ipython",
    "version": 3
   },
   "file_extension": ".py",
   "mimetype": "text/x-python",
   "name": "python",
   "nbconvert_exporter": "python",
   "pygments_lexer": "ipython3",
   "version": "3.10.5"
  },
  "orig_nbformat": 4,
  "vscode": {
   "interpreter": {
    "hash": "d629700add7d13df99efa7b6ee1fc1a3d9f6e4ac2336389d6054d4e516eee861"
   }
  }
 },
 "nbformat": 4,
 "nbformat_minor": 2
}
