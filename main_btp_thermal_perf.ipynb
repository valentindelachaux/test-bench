{
 "cells": [
  {
   "cell_type": "code",
   "execution_count": null,
   "metadata": {},
   "outputs": [],
   "source": [
    "import functions as fun\n",
    "import datetime\n",
    "import plotly.express as px\n",
    "\n",
    "import norm as nm\n",
    "import pandas as pd\n",
    "import numpy as np\n",
    "\n",
    "import plotly.graph_objects as go\n",
    "from plotly.subplots import make_subplots\n",
    "\n",
    "import h5py\n",
    "import tables\n",
    "\n",
    "from openpyxl import Workbook\n",
    "from openpyxl.utils.dataframe import dataframe_to_rows\n",
    "\n",
    "from sklearn.linear_model import LinearRegression\n",
    "\n",
    "Cp = 4180\n",
    "\n",
    "import matplotlib.pyplot as plt\n",
    "\n",
    "import os"
   ]
  },
  {
   "cell_type": "code",
   "execution_count": null,
   "metadata": {},
   "outputs": [],
   "source": [
    "# Charge et preproc le fichier\n",
    "\n",
    "file_name = \"S425-2ab.csv\"\n",
    "df = fun.pre_proc(file_name)\n",
    "\n",
    "# or \n",
    "# file_path = r\"C:\\Users\\valen\\Dropbox (DualSun)\\PC\\Documents\\PVT-PAC\\vbusnet-1674040305-semicolon-crlf.xlsx\"\n",
    "\n",
    "df = fun.clean_date_time(df,'Date / Time')\n",
    "df = fun.drop(df)\n",
    "\n",
    "# dict_corr.keys()\n",
    "\n",
    "dict_rename,order,dict_unit = fun.dict_preproc_btp()\n",
    "\n",
    "df = fun.rename_and_sort(df,dict_rename,order)"
   ]
  },
  {
   "cell_type": "code",
   "execution_count": null,
   "metadata": {},
   "outputs": [],
   "source": [
    "# Sélection de la plage de temps souhaitée\n",
    "\n",
    "df_a = fun.select(df,datetime.datetime(2022, 11, 24, 15, 50, 00),datetime.datetime(2022, 11, 24, 17, 10, 00))\n",
    "\n",
    "# df_b = fun.select(df,datetime.datetime(2022, 11, 24, 17, 55, 00),datetime.datetime(2022, 11, 24, 20, 00, 00))"
   ]
  },
  {
   "cell_type": "code",
   "execution_count": null,
   "metadata": {},
   "outputs": [],
   "source": [
    "# Sélection de données vérifiant des conditions\n",
    "\n",
    "df_a = df.loc[df_a['Flow_rate']>70]\n",
    "df_a = df.loc[df_a['G']>600]"
   ]
  },
  {
   "cell_type": "code",
   "execution_count": null,
   "metadata": {},
   "outputs": [],
   "source": [
    "# Crée un fichier de données statistiques\n",
    "\n",
    "Tt = pd.DataFrame()\n",
    "Tt[\"T_m\"] = (df[\"T_fluid_in\"]+df[\"T_fluid_out\"])/2\n",
    "Tt[\"T_m -T_a\"] = Tt[\"T_m\"] - df[\"T_amb\"]\n",
    "Tt[\"T_m_VFD\"] = (df[\"T_fluid_in\"]+df[\"T_fluid_out_VFD\"])/2\n",
    "Tt[\"T_m_VFD -T_a\"] = Tt[\"T_m_VFD\"] - df[\"T_amb\"]"
   ]
  },
  {
   "cell_type": "code",
   "execution_count": null,
   "metadata": {},
   "outputs": [],
   "source": [
    "# Plot les nuages statistiques des conditions météo\n",
    "\n",
    "plt.scatter(Tt[\"T_m -T_a\"],df[\"G\"],s=1.)\n",
    "plt.xlim(-5,15)\n",
    "plt.show()\n",
    "\n",
    "plt.scatter(Tt[\"T_m -T_a\"],df[\"u\"],s=1.)\n",
    "plt.xlim(-5,15)\n",
    "plt.show()"
   ]
  },
  {
   "cell_type": "code",
   "execution_count": null,
   "metadata": {},
   "outputs": [],
   "source": [
    "# Plot time series data\n",
    "\n",
    "fig1 = fun.plot_system(df_a,tank=False)\n",
    "fig2 = fun.plot_meteo(df_a)\n",
    "fig1.show()\n",
    "fig2.show()"
   ]
  },
  {
   "cell_type": "code",
   "execution_count": null,
   "metadata": {},
   "outputs": [],
   "source": []
  },
  {
   "cell_type": "code",
   "execution_count": null,
   "metadata": {},
   "outputs": [],
   "source": [
    "# Find steady states\n",
    "\n",
    "time_list,quasi_list,ss_list = fun.find_steady_states(df)"
   ]
  },
  {
   "cell_type": "code",
   "execution_count": null,
   "metadata": {},
   "outputs": [],
   "source": [
    "df[\"DT_fluid_out\"] = abs(df[\"T_fluid_out_VFD\"] - df[\"T_fluid_out\"])"
   ]
  },
  {
   "cell_type": "code",
   "execution_count": null,
   "metadata": {},
   "outputs": [],
   "source": [
    "hist1 = df['DT_fluid_out'].value_counts(bins=l)"
   ]
  },
  {
   "cell_type": "code",
   "execution_count": null,
   "metadata": {},
   "outputs": [],
   "source": [
    "df.plot.hist(column = \"DT_fluid_out\",bins=l)"
   ]
  },
  {
   "cell_type": "code",
   "execution_count": null,
   "metadata": {},
   "outputs": [],
   "source": [
    "plt.hist(np.array(df['DT_fluid_out']), bins = l, rwidth = 0.5, density =False)\n",
    "plt.xlabel('| T_fluid_out - T_fluid_out_VFD |')\n",
    "plt.show()"
   ]
  },
  {
   "cell_type": "code",
   "execution_count": null,
   "metadata": {},
   "outputs": [],
   "source": [
    "print(df[\"DT_fluid_out\"].mean())\n",
    "print(df[\"DT_fluid_out\"].std())\n",
    "print(df[\"DT_fluid_out\"].min())\n",
    "print(df[\"DT_fluid_out\"].max())\n",
    "print(df[\"DT_fluid_out\"].idxmax())"
   ]
  },
  {
   "cell_type": "code",
   "execution_count": null,
   "metadata": {},
   "outputs": [],
   "source": [
    "# Save HDF5\n",
    "\n",
    "address = \"S425-2b.h5\"\n",
    "fun.save_h5(address,df_a,dict_unit)"
   ]
  }
 ],
 "metadata": {
  "kernelspec": {
   "display_name": "Python 3.10.5 ('model23')",
   "language": "python",
   "name": "python3"
  },
  "language_info": {
   "codemirror_mode": {
    "name": "ipython",
    "version": 3
   },
   "file_extension": ".py",
   "mimetype": "text/x-python",
   "name": "python",
   "nbconvert_exporter": "python",
   "pygments_lexer": "ipython3",
   "version": "3.10.5"
  },
  "orig_nbformat": 4,
  "vscode": {
   "interpreter": {
    "hash": "d629700add7d13df99efa7b6ee1fc1a3d9f6e4ac2336389d6054d4e516eee861"
   }
  }
 },
 "nbformat": 4,
 "nbformat_minor": 2
}
