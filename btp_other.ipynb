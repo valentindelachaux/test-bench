{
 "cells": [
  {
   "cell_type": "code",
   "execution_count": null,
   "metadata": {},
   "outputs": [],
   "source": [
    "# Choix manuel des listes\n",
    "\n",
    "dict_choice = {'Date / Time':1,\n",
    "                 'T out PVT1 [ °C]':1,\n",
    "                 'T bas ballon [ °C]':0,\n",
    "                 'T in PVT1 [ °C]':0,\n",
    "                 'T haut ballon [ °C]':0,\n",
    "                 'T out PVT2 [ °C]':1,\n",
    "                 'T in PVT2 [ °C]':0,\n",
    "                 'T in PVT2 [ °C]':0,\n",
    "                 'T out PVT3 [ °C]':0,\n",
    "                 'T in PVT3 [ °C]':0,\n",
    "                 'T out PVT4 [ °C]':0,\n",
    "                 'T in PVT4 [ °C]':0,\n",
    "                 'T out PVT5 [ °C]':0,\n",
    "                 'T in PVT5 [ °C]':0,\n",
    "                 'Irradiation solaire [ W/m²]':0,\n",
    "                 'T out PVT6 [ °C]':0,\n",
    "                 'T in PVT6 [ °C]':0,\n",
    "                 'T extérieure [ °C]':0,\n",
    "                 'T out PVT7 [ °C]':0,\n",
    "                 'T in PVT7 [ °C]':0,\n",
    "                 'T out PVT8 [ °C]':0,\n",
    "                 'T in PVT8 [ °C]':0,\n",
    "                 'T out PVT9 [ °C]':0,\n",
    "                 'T in PVT9 [ °C]':0,\n",
    "                 'T out PVT10 [ °C]':0,\n",
    "                 'T in PVT10 [ °C]':0,\n",
    "                 'Pression entrée PVT [ bar]':0,\n",
    "                 'Pression sortie PVT [ bar]':0,\n",
    "                 'T entrée PVT RPS [ °C]':0,\n",
    "                 'T sortie PVT RPS [ °C]':0,\n",
    "                 'T sortie PVT VFD [ °C]':0,\n",
    "                 'Débit VFD [ l/h]':0,'débit IMP [ l/h]':0,\n",
    "                 'Relais 1 [ %]':0,\n",
    "                 'Signal PWM [ %]':0,\n",
    "                 'Vitesse du vent [ m/s]':0}"
   ]
  }
 ],
 "metadata": {
  "kernelspec": {
   "display_name": "model23",
   "language": "python",
   "name": "python3"
  },
  "language_info": {
   "name": "python",
   "version": "3.10.5"
  },
  "orig_nbformat": 4,
  "vscode": {
   "interpreter": {
    "hash": "d629700add7d13df99efa7b6ee1fc1a3d9f6e4ac2336389d6054d4e516eee861"
   }
  }
 },
 "nbformat": 4,
 "nbformat_minor": 2
}
